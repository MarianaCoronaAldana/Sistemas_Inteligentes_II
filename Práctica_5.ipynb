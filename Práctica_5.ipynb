{
  "nbformat": 4,
  "nbformat_minor": 0,
  "metadata": {
    "colab": {
      "provenance": [],
      "collapsed_sections": [
        "w3D7rwW_h3C7"
      ],
      "include_colab_link": true
    },
    "kernelspec": {
      "name": "python3",
      "display_name": "Python 3"
    },
    "language_info": {
      "name": "python"
    }
  },
  "cells": [
    {
      "cell_type": "markdown",
      "metadata": {
        "id": "view-in-github",
        "colab_type": "text"
      },
      "source": [
        "<a href=\"https://colab.research.google.com/github/MarianaCoronaAldana/Sistemas_Inteligentes_II/blob/main/Pr%C3%A1ctica_5.ipynb\" target=\"_parent\"><img src=\"https://colab.research.google.com/assets/colab-badge.svg\" alt=\"Open In Colab\"/></a>"
      ]
    },
    {
      "cell_type": "code",
      "execution_count": null,
      "metadata": {
        "id": "Zw7pKcDuaas7",
        "outputId": "189e3fee-647c-465d-c7bd-32a0529b0e7b",
        "colab": {
          "base_uri": "https://localhost:8080/"
        }
      },
      "outputs": [
        {
          "output_type": "stream",
          "name": "stdout",
          "text": [
            "--2024-10-06 22:14:57--  https://raw.githubusercontent.com/Jegovila/SSPIA1/main/5%20Transformaci%C3%B3n%20de%20similitud/ref_1.png\n",
            "Resolving raw.githubusercontent.com (raw.githubusercontent.com)... 185.199.109.133, 185.199.111.133, 185.199.110.133, ...\n",
            "Connecting to raw.githubusercontent.com (raw.githubusercontent.com)|185.199.109.133|:443... connected.\n",
            "HTTP request sent, awaiting response... 200 OK\n",
            "Length: 6126 (6.0K) [image/png]\n",
            "Saving to: ‘ref_1.png’\n",
            "\n",
            "\rref_1.png             0%[                    ]       0  --.-KB/s               \rref_1.png           100%[===================>]   5.98K  --.-KB/s    in 0s      \n",
            "\n",
            "2024-10-06 22:14:57 (52.7 MB/s) - ‘ref_1.png’ saved [6126/6126]\n",
            "\n",
            "--2024-10-06 22:14:57--  https://raw.githubusercontent.com/Jegovila/SSPIA1/main/5%20Transformaci%C3%B3n%20de%20similitud/des.png\n",
            "Resolving raw.githubusercontent.com (raw.githubusercontent.com)... 185.199.109.133, 185.199.108.133, 185.199.110.133, ...\n",
            "Connecting to raw.githubusercontent.com (raw.githubusercontent.com)|185.199.109.133|:443... connected.\n",
            "HTTP request sent, awaiting response... 200 OK\n",
            "Length: 88329 (86K) [image/png]\n",
            "Saving to: ‘des.png’\n",
            "\n",
            "des.png             100%[===================>]  86.26K  --.-KB/s    in 0.03s   \n",
            "\n",
            "2024-10-06 22:14:57 (2.50 MB/s) - ‘des.png’ saved [88329/88329]\n",
            "\n"
          ]
        }
      ],
      "source": [
        "!wget -nc 'https://raw.githubusercontent.com/Jegovila/SSPIA1/main/5%20Transformación%20de%20similitud/ref_1.png'\n",
        "!wget -nc 'https://raw.githubusercontent.com/Jegovila/SSPIA1/main/5%20Transformación%20de%20similitud/des.png'\n",
        "\n",
        "import cv2\n",
        "import matplotlib.pyplot as plt\n",
        "import numpy as np\n",
        "from google.colab.patches import cv2_imshow\n",
        "from IPython import display"
      ]
    },
    {
      "cell_type": "markdown",
      "source": [
        "# Funciones"
      ],
      "metadata": {
        "id": "w3D7rwW_h3C7"
      }
    },
    {
      "cell_type": "markdown",
      "source": [
        "Transformación de similitud"
      ],
      "metadata": {
        "id": "tzkUN605h6vT"
      }
    },
    {
      "cell_type": "code",
      "source": [
        "def Transformacion_Similitud(q,x):\n",
        "    dx = q[0]\n",
        "    dy = q[1]\n",
        "    theta = q[2]\n",
        "    s = q[3]\n",
        "\n",
        "    xp1 = [s*np.cos(theta)*x[0]-s*np.sin(theta)*x[1]+dx]\n",
        "    xp2 = [s*np.sin(theta)*x[0]+s*np.cos(theta)*x[1]+dy]\n",
        "    xp = np.array([xp1, xp2])\n",
        "    return xp"
      ],
      "metadata": {
        "id": "ursnoVR8h5fT"
      },
      "execution_count": null,
      "outputs": []
    },
    {
      "cell_type": "markdown",
      "source": [
        "Distancia Euclidiana"
      ],
      "metadata": {
        "id": "mkX6KBvzh-mi"
      }
    },
    {
      "cell_type": "code",
      "source": [
        "def Distancia_Euclidiana(xr, xp):\n",
        "    e = np.sqrt((xr[0]-xp[0])**2 + (xr[1]-xp[1])**2)\n",
        "    return e"
      ],
      "metadata": {
        "id": "qY1ZjPNiiAKD"
      },
      "execution_count": null,
      "outputs": []
    },
    {
      "cell_type": "markdown",
      "source": [
        "Generar Resultado"
      ],
      "metadata": {
        "id": "IcZAL-pniPoa"
      }
    },
    {
      "cell_type": "code",
      "source": [
        "def Generar_Resultado(q, img_dst, img_ref):\n",
        "    dx = q[0]\n",
        "    dy = q[1]\n",
        "    theta = q[2]\n",
        "    s = q[3]\n",
        "\n",
        "    T = np.matrix([[s*np.cos(theta), -s*np.sin(theta), dx],\n",
        "                   [s*np.sin(theta), s*np.cos(theta), dy],\n",
        "                   [0, 0, 1]])\n",
        "    Tp = T.T\n",
        "\n",
        "    N, M, _ = img_ref.shape\n",
        "    n, m, _ = img_dst.shape\n",
        "\n",
        "    img_out= cv2.warpPerspective(img_dst, T, (M, N))\n",
        "\n",
        "    # Para pegar una imagen sobre otra\n",
        "    thresh = cv2.threshold(cv2.cvtColor(img_out, cv2.COLOR_BGR2GRAY), 1, 255, cv2.THRESH_BINARY)[1]\n",
        "    foreground = img_out.copy()\n",
        "    background = img_ref.copy()\n",
        "    alpha = cv2.cvtColor(thresh, cv2.COLOR_GRAY2BGR)\n",
        "    foreground = foreground.astype(float)\n",
        "    background = background.astype(float)\n",
        "    alpha = alpha.astype(float) / 255\n",
        "    foreground = cv2.multiply(alpha, foreground)\n",
        "    background = cv2.multiply(1 - alpha, background)\n",
        "    outImage = cv2.add(foreground, background)\n",
        "    outImage = outImage.astype(np.uint8)\n",
        "\n",
        "    return outImage"
      ],
      "metadata": {
        "id": "WXlCSAw1iQ4r"
      },
      "execution_count": null,
      "outputs": []
    },
    {
      "cell_type": "markdown",
      "source": [
        "# Algoritmo"
      ],
      "metadata": {
        "id": "lDknLNhTiUur"
      }
    },
    {
      "cell_type": "markdown",
      "source": [
        "Leer imágenes de entrada (qr y dst)"
      ],
      "metadata": {
        "id": "FfhFEg-0iWZ7"
      }
    },
    {
      "cell_type": "code",
      "source": [
        "img_ref = cv2.imread('ref_1.png')\n",
        "H, W, _ = img_ref.shape\n",
        "\n",
        "img_dst = cv2.imread('des.png')\n",
        "h, w, _ = img_dst.shape"
      ],
      "metadata": {
        "id": "7WNTzAbjiZIb"
      },
      "execution_count": null,
      "outputs": []
    },
    {
      "cell_type": "markdown",
      "source": [
        "Detectar QR"
      ],
      "metadata": {
        "id": "U8XDYuTDifHy"
      }
    },
    {
      "cell_type": "code",
      "source": [
        "detect = cv2.QRCodeDetector()\n",
        "_, points, _ = detect.detectAndDecode(img_ref)\n",
        "\n",
        "xr0 = points[0, 0]\n",
        "xr1 = points[0, 1]\n",
        "xr2 = points[0, 2]\n",
        "#xr3 = points[0, 3]\n",
        "\n",
        "x0 = [0, 0]\n",
        "x1 = [w, 0]\n",
        "x2 = [w, h]"
      ],
      "metadata": {
        "id": "3bjwxIs-igaL"
      },
      "execution_count": null,
      "outputs": []
    },
    {
      "cell_type": "markdown",
      "source": [
        "## Algoritmo de optimización"
      ],
      "metadata": {
        "id": "L3o0-lfaik2K"
      }
    },
    {
      "cell_type": "markdown",
      "source": [
        "En esta parte ustedes elijan el algoritmo de optimización que gusten, dejo la plantilla de uno de estrategias evolutivas para que se den una idea de cómo debería verse: el primer bloque son los parámetros e inicialización, el segundo es el algoritmo."
      ],
      "metadata": {
        "id": "6_8gLJcWjZzT"
      }
    },
    {
      "cell_type": "markdown",
      "source": [
        "Parámetros"
      ],
      "metadata": {
        "id": "eA8wJS1kjCo0"
      }
    },
    {
      "cell_type": "code",
      "source": [
        "# AQUI ELEGIR LA CONFIGURACIÓN ADECUADA\n",
        "xl = np.array([, , , ])\n",
        "xu = np.array([, , , ])\n",
        "\n",
        "G =\n",
        "mu =\n",
        "l =\n",
        "D =\n",
        "\n",
        "x =\n",
        "sigma =\n",
        "fitness =\n",
        "\n",
        "p_plot = np.zeros(G)"
      ],
      "metadata": {
        "id": "VePVfvUUixvr"
      },
      "execution_count": null,
      "outputs": []
    },
    {
      "cell_type": "markdown",
      "source": [
        "Algoritmo"
      ],
      "metadata": {
        "id": "JB2fVacEjEBr"
      }
    },
    {
      "cell_type": "code",
      "source": [
        "for i in range(mu):\n",
        "    x[:, i] = xl + (xu - xl) * np.random.rand(D)\n",
        "    # AQUÍ AGREGAR EL VECTOR SIGMA ADECUADO\n",
        "    sigma[:, i] = [ , , , ]\n",
        "\n",
        "    q = x[:,i]\n",
        "\n",
        "    # 1. Calcular los puntos xi transformados\n",
        "    # Usar la función Transformación_Similitud\n",
        "    xp0 =\n",
        "    xp1 =\n",
        "    xp2 =\n",
        "\n",
        "    # 2. Calcular errores entre xri y xpi\n",
        "    # Usar la función Distancia_Euclidiana\n",
        "    e0 =\n",
        "    e1 =\n",
        "    e2 =\n",
        "\n",
        "    fitness[i] =\n",
        "\n",
        "for g in range(G):\n",
        "   ## ------------ AQUÍ TU CÓDIGO ------------- ##\n",
        "\n",
        "\n",
        "\n",
        "   ## ----------------------------------------- ##\n",
        "\n",
        "    Idx = np.argsort(fitness)\n",
        "    x = x[:, Idx]\n",
        "    sigma = sigma[:, Idx]\n",
        "    fitness = fitness[Idx]\n",
        "\n",
        "    p_plot[g] = np.min(fitness)\n",
        "\n",
        "q = x[:, 0]\n",
        "display.display(plt.gcf())\n",
        "display.clear_output(wait=True)\n",
        "img = Generar_Resultado(q, img_dst, img_ref)\n",
        "cv2_imshow(img)\n",
        "\n",
        "plt.plot(p_plot)"
      ],
      "metadata": {
        "id": "81v2vXtjlr9M"
      },
      "execution_count": null,
      "outputs": []
    }
  ]
}